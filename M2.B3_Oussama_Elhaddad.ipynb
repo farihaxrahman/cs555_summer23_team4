{
 "cells": [
  {
   "cell_type": "code",
   "execution_count": 1,
   "id": "f826776b",
   "metadata": {},
   "outputs": [],
   "source": [
    "#### Team 4 Project - GEDCOM data\n",
    "##### Fariha Rahman\n",
    "##### Siddique Baksh\n",
    "##### Oussama Elhaddad\n"
   ]
  },
  {
   "cell_type": "code",
   "execution_count": 5,
   "id": "e7bec001",
   "metadata": {},
   "outputs": [
    {
     "name": "stdout",
     "output_type": "stream",
     "text": [
      "Requirement already satisfied: python-gedcom in /opt/homebrew/lib/python3.11/site-packages (1.0.0)\n",
      "\n",
      "\u001b[1m[\u001b[0m\u001b[34;49mnotice\u001b[0m\u001b[1;39;49m]\u001b[0m\u001b[39;49m A new release of pip is available: \u001b[0m\u001b[31;49m23.0.1\u001b[0m\u001b[39;49m -> \u001b[0m\u001b[32;49m23.1.2\u001b[0m\n",
      "\u001b[1m[\u001b[0m\u001b[34;49mnotice\u001b[0m\u001b[1;39;49m]\u001b[0m\u001b[39;49m To update, run: \u001b[0m\u001b[32;49mpython3.11 -m pip install --upgrade pip\u001b[0m\n",
      "Note: you may need to restart the kernel to use updated packages.\n"
     ]
    }
   ],
   "source": [
    "pip install python-gedcom"
   ]
  },
  {
   "cell_type": "code",
   "execution_count": 6,
   "id": "0038f65a",
   "metadata": {},
   "outputs": [
    {
     "name": "stdout",
     "output_type": "stream",
     "text": [
      "Collecting tabulate\n",
      "  Using cached tabulate-0.9.0-py3-none-any.whl (35 kB)\n",
      "Installing collected packages: tabulate\n",
      "Successfully installed tabulate-0.9.0\n",
      "\n",
      "\u001b[1m[\u001b[0m\u001b[34;49mnotice\u001b[0m\u001b[1;39;49m]\u001b[0m\u001b[39;49m A new release of pip is available: \u001b[0m\u001b[31;49m23.0.1\u001b[0m\u001b[39;49m -> \u001b[0m\u001b[32;49m23.1.2\u001b[0m\n",
      "\u001b[1m[\u001b[0m\u001b[34;49mnotice\u001b[0m\u001b[1;39;49m]\u001b[0m\u001b[39;49m To update, run: \u001b[0m\u001b[32;49mpython3.11 -m pip install --upgrade pip\u001b[0m\n",
      "Note: you may need to restart the kernel to use updated packages.\n"
     ]
    }
   ],
   "source": [
    "pip install tabulate\n"
   ]
  },
  {
   "cell_type": "code",
   "execution_count": 7,
   "id": "8d46883b",
   "metadata": {},
   "outputs": [
    {
     "name": "stdout",
     "output_type": "stream",
     "text": [
      "Collecting pandas\n",
      "  Downloading pandas-2.0.2-cp311-cp311-macosx_11_0_arm64.whl (10.7 MB)\n",
      "\u001b[2K     \u001b[90m━━━━━━━━━━━━━━━━━━━━━━━━━━━━━━━━━━━━━━━━\u001b[0m \u001b[32m10.7/10.7 MB\u001b[0m \u001b[31m37.0 MB/s\u001b[0m eta \u001b[36m0:00:00\u001b[0m00:01\u001b[0m00:01\u001b[0m\n",
      "\u001b[?25hRequirement already satisfied: python-dateutil>=2.8.2 in /Users/fariharahman/Library/Python/3.11/lib/python/site-packages (from pandas) (2.8.2)\n",
      "Collecting pytz>=2020.1\n",
      "  Downloading pytz-2023.3-py2.py3-none-any.whl (502 kB)\n",
      "\u001b[2K     \u001b[90m━━━━━━━━━━━━━━━━━━━━━━━━━━━━━━━━━━━━━━\u001b[0m \u001b[32m502.3/502.3 kB\u001b[0m \u001b[31m36.3 MB/s\u001b[0m eta \u001b[36m0:00:00\u001b[0m\n",
      "\u001b[?25hCollecting tzdata>=2022.1\n",
      "  Downloading tzdata-2023.3-py2.py3-none-any.whl (341 kB)\n",
      "\u001b[2K     \u001b[90m━━━━━━━━━━━━━━━━━━━━━━━━━━━━━━━━━━━━━━\u001b[0m \u001b[32m341.8/341.8 kB\u001b[0m \u001b[31m41.2 MB/s\u001b[0m eta \u001b[36m0:00:00\u001b[0m\n",
      "\u001b[?25hCollecting numpy>=1.21.0\n",
      "  Downloading numpy-1.24.3-cp311-cp311-macosx_11_0_arm64.whl (13.8 MB)\n",
      "\u001b[2K     \u001b[90m━━━━━━━━━━━━━━━━━━━━━━━━━━━━━━━━━━━━━━━━\u001b[0m \u001b[32m13.8/13.8 MB\u001b[0m \u001b[31m55.3 MB/s\u001b[0m eta \u001b[36m0:00:00\u001b[0m00:01\u001b[0m00:01\u001b[0m\n",
      "\u001b[?25hRequirement already satisfied: six>=1.5 in /Users/fariharahman/Library/Python/3.11/lib/python/site-packages (from python-dateutil>=2.8.2->pandas) (1.16.0)\n",
      "Installing collected packages: pytz, tzdata, numpy, pandas\n",
      "Successfully installed numpy-1.24.3 pandas-2.0.2 pytz-2023.3 tzdata-2023.3\n",
      "\n",
      "\u001b[1m[\u001b[0m\u001b[34;49mnotice\u001b[0m\u001b[1;39;49m]\u001b[0m\u001b[39;49m A new release of pip is available: \u001b[0m\u001b[31;49m23.0.1\u001b[0m\u001b[39;49m -> \u001b[0m\u001b[32;49m23.1.2\u001b[0m\n",
      "\u001b[1m[\u001b[0m\u001b[34;49mnotice\u001b[0m\u001b[1;39;49m]\u001b[0m\u001b[39;49m To update, run: \u001b[0m\u001b[32;49mpython3.11 -m pip install --upgrade pip\u001b[0m\n",
      "Note: you may need to restart the kernel to use updated packages.\n"
     ]
    }
   ],
   "source": [
    "pip install pandas"
   ]
  },
  {
   "cell_type": "code",
   "execution_count": 8,
   "id": "396273ee",
   "metadata": {},
   "outputs": [
    {
     "name": "stdout",
     "output_type": "stream",
     "text": [
      "Requirement already satisfied: numpy in /opt/homebrew/lib/python3.11/site-packages (1.24.3)\n",
      "\n",
      "\u001b[1m[\u001b[0m\u001b[34;49mnotice\u001b[0m\u001b[1;39;49m]\u001b[0m\u001b[39;49m A new release of pip is available: \u001b[0m\u001b[31;49m23.0.1\u001b[0m\u001b[39;49m -> \u001b[0m\u001b[32;49m23.1.2\u001b[0m\n",
      "\u001b[1m[\u001b[0m\u001b[34;49mnotice\u001b[0m\u001b[1;39;49m]\u001b[0m\u001b[39;49m To update, run: \u001b[0m\u001b[32;49mpython3.11 -m pip install --upgrade pip\u001b[0m\n",
      "Note: you may need to restart the kernel to use updated packages.\n"
     ]
    }
   ],
   "source": [
    "pip install numpy"
   ]
  },
  {
   "cell_type": "code",
   "execution_count": 9,
   "id": "e19c93c4",
   "metadata": {},
   "outputs": [],
   "source": [
    "### gedcom library\n",
    "\n",
    "from gedcom.parser import Parser\n",
    "from gedcom.element.individual import IndividualElement\n",
    "from gedcom.element.family import FamilyElement\n",
    "from tabulate import tabulate\n",
    "import pandas as pd\n",
    "import numpy as np\n",
    "import datetime\n",
    "from datetime import date\n",
    "\n",
    "import warnings\n",
    "warnings.filterwarnings(\"ignore\")"
   ]
  },
  {
   "cell_type": "code",
   "execution_count": 10,
   "id": "ff7d3c53",
   "metadata": {},
   "outputs": [],
   "source": [
    "def calculateAge(birthDate, deathDate):\n",
    "    \n",
    "      age = deathDate.year - birthDate.year - ((deathDate.month, deathDate.day) <\n",
    "            (birthDate.month, birthDate.day))\n",
    "         \n",
    " \n",
    "      return age"
   ]
  },
  {
   "cell_type": "code",
   "execution_count": 14,
   "id": "88b2b46d",
   "metadata": {},
   "outputs": [],
   "source": [
    "def getIndividuals(file):\n",
    "    \n",
    "    ### dataframe to store individuals details\n",
    "    individuals = pd.DataFrame(columns=['ID','Name','Gender','Birthday','Age','Alive','Death','Child','Spouse'])\n",
    "    \n",
    "    ### Parse the gedcom file\n",
    "    parser = Parser()\n",
    "    parser.parse_file(file)\n",
    "    \n",
    "    ### Iterate through each element and pull an individual data based on level and tag conditions\n",
    "    for ele in parser.get_element_list():\n",
    "        \n",
    "        if(IndividualElement.is_individual(ele) == True):\n",
    "            \n",
    "            famSpouses = set()\n",
    "            famChilds = set()            \n",
    "            id = ele.get_pointer().replace('@', '')\n",
    "            deathDate = 'NA'\n",
    "            alive = 'True'\n",
    "            \n",
    "            ### For each individual element, below extracting the personal data\n",
    "            child_elements = IndividualElement.get_child_elements(ele)\n",
    "            for child in child_elements:\n",
    "                if(child.get_tag() == 'NAME'):\n",
    "                    name = child.get_value()\n",
    "                    # print(name)\n",
    "                elif(child.get_tag() == 'SEX'):\n",
    "                    gender = child.get_value()\n",
    "                    # print(gender)\n",
    "                elif(child.get_tag() == 'BIRT'):\n",
    "                    birthDate = datetime.datetime.strptime(child.get_child_elements()[0].get_value(),'%d %b %Y').strftime('%Y-%m-%d')\n",
    "                    # print(birthDate)\n",
    "                    age = calculateAge(date(int(birthDate.split('-')[0]),int(birthDate.split('-')[1]),int(birthDate.split('-')[2])), \n",
    "                            date.today())\n",
    "                elif(child.get_tag() == 'FAMS'):\n",
    "                    famSpouses.add(child.get_value().replace('@', ''))\n",
    "                    # print('Spouse ', famSpouses)\n",
    "                elif(child.get_tag() == 'FAMC'):\n",
    "                    famChilds.add(child.get_value().replace('@', ''))\n",
    "                    # print('Childs ', famChilds)\n",
    "                elif(child.get_tag() == 'DEAT'):\n",
    "                    deathDate = datetime.datetime.strptime(child.get_child_elements()[0].get_value(),'%d %b %Y').strftime('%Y-%m-%d')\n",
    "                    # print(deathDate)\n",
    "                    alive = 'False'\n",
    "                    age = calculateAge(date(int(birthDate.split('-')[0]),int(birthDate.split('-')[1]),int(birthDate.split('-')[2])), \n",
    "                           date(int(deathDate.split('-')[0]),int(deathDate.split('-')[1]),int(deathDate.split('-')[2])))\n",
    "                    \n",
    "        \n",
    "            # print('*********')  \n",
    "        ### Appending each individual to dataframe\n",
    "            row = {'ID': id, 'Name': name, 'Gender': gender, \n",
    "                'Birthday': birthDate, 'Age': age, 'Alive': alive,\n",
    "                'Death': deathDate, 'Child': famChilds, 'Spouse': famSpouses}\n",
    "            \n",
    "            individuals = individuals.append(row, ignore_index = True)\n",
    "            \n",
    "    return individuals"
   ]
  },
  {
   "cell_type": "code",
   "execution_count": 15,
   "id": "0ec25d4b",
   "metadata": {},
   "outputs": [],
   "source": [
    "def getFamilies(file):\n",
    "    \n",
    "    ### dataframe to store individuals details\n",
    "    families = pd.DataFrame(columns=['ID','Married','Divorced','Husband ID','Husband Name','Wife ID','Wife Name','Children'])\n",
    "    \n",
    "    ### Parse the gedcom file\n",
    "    parser = Parser()\n",
    "    parser.parse_file(file)\n",
    "    \n",
    "    for ele in parser.get_element_list():\n",
    "\n",
    "        if(FamilyElement.is_family(ele) == True):\n",
    "                \n",
    "                childrens = set()\n",
    "                id = ele.get_pointer().replace('@', '')\n",
    "                divorce = 'NA'\n",
    "                childs = IndividualElement.get_child_elements(ele)\n",
    "                for child in childs:\n",
    "                    \n",
    "                    if(child.get_tag() == 'HUSB'):\n",
    "                        husbID = child.get_value().replace('@', '')\n",
    "                    elif(child.get_tag() == 'WIFE'):\n",
    "                        wifeID = child.get_value().replace('@', '')\n",
    "                    elif(child.get_tag() == 'CHIL'):\n",
    "                        childrens.add(child.get_value().replace('@', ''))\n",
    "                    elif(child.get_tag() == 'MARR'):\n",
    "                        marriage = IndividualElement.get_child_elements(child)[0].get_value()\n",
    "                    elif(child.get_tag() == 'DIV'):\n",
    "                        divorce = IndividualElement.get_child_elements(child)[0].get_value()\n",
    "                        \n",
    "                individuals = getIndividuals(file)\n",
    "                \n",
    "                husbName = individuals.loc[individuals['ID'] == husbID, 'Name'].iloc[0]\n",
    "                wifeName = individuals.loc[individuals['ID'] == wifeID, 'Name'].iloc[0]\n",
    "                ### Appending each individual to dataframe\n",
    "                row = {'ID': id, 'Married': marriage, 'Divorced': divorce, \n",
    "                    'Husband ID': husbID, 'Husband Name': husbName, 'Wife ID': wifeID,\n",
    "                    'Wife Name': wifeName, 'Children': childrens}\n",
    "                \n",
    "                families = families.append(row, ignore_index = True)\n",
    "    \n",
    "    return families\n",
    "\n"
   ]
  }
 ],
 "metadata": {
  "kernelspec": {
   "display_name": "Python 3",
   "language": "python",
   "name": "python3"
  },
  "language_info": {
   "codemirror_mode": {
    "name": "ipython",
    "version": 3
   },
   "file_extension": ".py",
   "mimetype": "text/x-python",
   "name": "python",
   "nbconvert_exporter": "python",
   "pygments_lexer": "ipython3",
   "version": "3.11.3"
  }
 },
 "nbformat": 4,
 "nbformat_minor": 5
}
